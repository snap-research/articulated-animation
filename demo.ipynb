{
  "cells": [
    {
      "cell_type": "markdown",
      "metadata": {
        "id": "view-in-github"
      },
      "source": [
        "<a href=\"https://colab.research.google.com/github/AliaksandrSiarohin/articulated-animation/blob/main/demo.ipynb\" target=\"_parent\"><img src=\"https://colab.research.google.com/assets/colab-badge.svg\" alt=\"Open In Colab\"/></a>"
      ]
    },
    {
      "cell_type": "markdown",
      "metadata": {
        "id": "-FPGt7_2z7fn"
      },
      "source": [
        "\n",
        "# Demo for paper \"Motion Representations for Articulated Animation\"\n",
        "**Clone repository. First install git lfs. Pulling all checkpoints may take a while. \n",
        "\n",
        "If git lfs fails to download the checkpoint files, see cells below.**\n"
      ]
    },
    {
      "cell_type": "code",
      "execution_count": null,
      "metadata": {
        "id": "2LoHDHBHyzzZ"
      },
      "outputs": [],
      "source": [
        "!curl -s https://packagecloud.io/install/repositories/github/git-lfs/script.deb.sh | sudo bash\n",
        "!sudo apt-get install git-lfs\n",
        "!git lfs install\n",
        "!git clone https://github.com/snap-research/articulated-animation/"
      ]
    },
    {
      "cell_type": "code",
      "execution_count": null,
      "metadata": {
        "id": "bCmwKAK4zkGC"
      },
      "outputs": [],
      "source": [
        "cd articulated-animation"
      ]
    },
    {
      "cell_type": "markdown",
      "metadata": {
        "id": "16FVl4gF2M4-"
      },
      "source": [
        "**Download the checkpoints, in case git LFS failed to download them from the GitHub repository. \n",
        "The following will work on Colab/Ubuntu, not on on Windows**.\n",
        "\n",
        "[Source](https://stackoverflow.com/a/66804597)."
      ]
    },
    {
      "cell_type": "code",
      "execution_count": 4,
      "metadata": {
        "collapsed": true,
        "id": "XmKdQZsd2M4-"
      },
      "outputs": [],
      "source": [
        "%%capture\n",
        "%%bash\n",
        "\n",
        " download_file_i(){\n",
        "    wget --load-cookies /tmp/cookies.txt \"https://drive.google.com/uc?export=download&confirm=$(wget --quiet --save-cookies /tmp/cookies.txt --keep-session-cookies --no-check-certificate 'https://docs.google.com/uc?export=download&id=$1' -O- | sed -rn 's/.*confirm=([0-9A-Za-z_]+).*/\\1\\n/p')&id=$1\" -O checkpoints/$2.pth && rm -rf /tmp/cookies.txt\n",
        " }\n",
        "\n",
        " a1=('1zt1cbLGiN6pVZi1Wn70lF29l1c2x6--V' '1UXMd2x4G3uFLa-XPA5iGywWlcidXR6Yg' \n",
        "    '1y_eiItgdKr3Z0Zb7lCsQoCM2GyxAcya_' '1X-BwTTwxTteesAxymrutxOy2qFW_jlWA'\n",
        "    '1gyU9H7ArRAK9cUp_4rGF582C35B4pNcE')\n",
        "a2=(\"mgif256\" \"taichi256\" \"ted-youtube384\" \"ted384\" \"vox256\")\n",
        "\n",
        "for i in \"${!a1[@]}\"; do\n",
        "    download_file_i \"${a1[i]}\" \"${a2[i]}\"\n",
        "done"
      ]
    },
    {
      "cell_type": "markdown",
      "source": [
        "`ffmpeg` is required to read the driving video file. "
      ],
      "metadata": {
        "id": "V6KwH2Y120Ba"
      }
    },
    {
      "cell_type": "code",
      "source": [
        "!pip install imageio-ffmpeg"
      ],
      "metadata": {
        "colab": {
          "base_uri": "https://localhost:8080/"
        },
        "id": "89QBoGUb2wh_",
        "outputId": "0dcd533a-f060-4a78-cf80-9c00abb07438"
      },
      "execution_count": 10,
      "outputs": [
        {
          "output_type": "stream",
          "name": "stdout",
          "text": [
            "Looking in indexes: https://pypi.org/simple, https://us-python.pkg.dev/colab-wheels/public/simple/\n",
            "Requirement already satisfied: imageio-ffmpeg in /usr/local/lib/python3.8/dist-packages (0.4.8)\n"
          ]
        }
      ]
    },
    {
      "cell_type": "markdown",
      "metadata": {
        "id": "YinzvwYd0MWj"
      },
      "source": [
        "**Load source image and driving video.**"
      ]
    },
    {
      "cell_type": "code",
      "execution_count": null,
      "metadata": {
        "id": "CRVOnlASzrhI"
      },
      "outputs": [],
      "source": [
        "import imageio\n",
        "import numpy as np\n",
        "import matplotlib.pyplot as plt\n",
        "import matplotlib.animation as animation\n",
        "from skimage.transform import resize\n",
        "from IPython.display import HTML\n",
        "import warnings\n",
        "warnings.filterwarnings(\"ignore\")\n",
        "\n",
        "source_image = imageio.imread('sup-mat/source.png')\n",
        "driving_video = imageio.mimread('sup-mat/driving.mp4')\n",
        "\n",
        "\n",
        "source_image = resize(source_image, (384, 384))[..., :3]\n",
        "driving_video = [resize(frame, (384, 384))[..., :3] for frame in driving_video]\n",
        "\n",
        "def display(source, driving, generated=None):\n",
        "    fig = plt.figure(figsize=(8 + 4 * (generated is not None), 6))\n",
        "\n",
        "    ims = []\n",
        "    for i in range(len(driving)):\n",
        "        cols = [source]\n",
        "        cols.append(driving[i])\n",
        "        if generated is not None:\n",
        "            cols.append(generated[i])\n",
        "        im = plt.imshow(np.concatenate(cols, axis=1), animated=True)\n",
        "        plt.axis('off')\n",
        "        ims.append([im])\n",
        "\n",
        "    ani = animation.ArtistAnimation(fig, ims, interval=50, repeat_delay=1000)\n",
        "    plt.close()\n",
        "    return ani\n",
        "    \n",
        "\n",
        "HTML(display(source_image, driving_video).to_html5_video())"
      ]
    },
    {
      "cell_type": "markdown",
      "metadata": {
        "id": "11vorkyV0Wbk"
      },
      "source": [
        "**Load checkpoints.**"
      ]
    },
    {
      "cell_type": "code",
      "execution_count": 8,
      "metadata": {
        "id": "n49-tAcEzzeG"
      },
      "outputs": [],
      "source": [
        "from demo import load_checkpoints\n",
        "\n",
        "generator, region_predictor, avd_network = load_checkpoints(config_path='config/ted384.yaml',\n",
        "                                                            checkpoint_path='checkpoints/ted384.pth')"
      ]
    },
    {
      "cell_type": "markdown",
      "metadata": {
        "id": "wP-o3LQq0a79"
      },
      "source": [
        "**Perform animation.**"
      ]
    },
    {
      "cell_type": "code",
      "execution_count": null,
      "metadata": {
        "id": "Lcv6u7Bcz27V"
      },
      "outputs": [],
      "source": [
        "from demo import make_animation\n",
        "from skimage import img_as_ubyte\n",
        "\n",
        "predictions = make_animation(source_image, driving_video, generator, \n",
        "                             region_predictor, avd_network, animation_mode='avd')\n",
        "\n",
        "#save resulting video\n",
        "imageio.mimsave('generated.mp4', [img_as_ubyte(frame) for frame in predictions])\n",
        "#video can be downloaded from /content folder\n",
        "\n",
        "HTML(display(source_image, driving_video, predictions).to_html5_video())"
      ]
    }
  ],
  "metadata": {
    "accelerator": "GPU",
    "colab": {
      "provenance": []
    },
    "kernelspec": {
      "display_name": "Python 3 (ipykernel)",
      "language": "python",
      "name": "python3"
    },
    "language_info": {
      "codemirror_mode": {
        "name": "ipython",
        "version": 3
      },
      "file_extension": ".py",
      "mimetype": "text/x-python",
      "name": "python",
      "nbconvert_exporter": "python",
      "pygments_lexer": "ipython3",
      "version": "3.9.13"
    }
  },
  "nbformat": 4,
  "nbformat_minor": 0
}